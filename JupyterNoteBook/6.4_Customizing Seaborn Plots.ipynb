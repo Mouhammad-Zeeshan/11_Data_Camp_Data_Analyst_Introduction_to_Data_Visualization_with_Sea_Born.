{
 "cells": [
  {
   "cell_type": "code",
   "execution_count": 6,
   "id": "64857b3f",
   "metadata": {},
   "outputs": [],
   "source": [
    "import pandas as pd\n",
    "import matplotlib.pyplot as plt\n",
    "import seaborn as sns"
   ]
  },
  {
   "cell_type": "code",
   "execution_count": 10,
   "id": "a755b574",
   "metadata": {},
   "outputs": [
    {
     "data": {
      "image/png": "[encoded data removed]",
      "text/plain": [
       "<Figure size 360x360 with 1 Axes>"
      ]
     },
     "metadata": {},
     "output_type": "display_data"
    }
   ],
   "source": [
    "# # Set the style to \"whitegrid\"\n",
    "# sns.set_style(\"whitegrid\")\n",
    "\n",
    "# # Create a count plot of survey responses\n",
    "# category_order = [\"Never\", \"Rarely\", \"Sometimes\", \n",
    "#                   \"Often\", \"Always\"]\n",
    "\n",
    "# sns.catplot(x=\"Parents advice\", \n",
    "#             data=survey_data, \n",
    "#             kind=\"count\", \n",
    "#             order=category_order)\n",
    "\n",
    "# # Show plot\n",
    "# plt.show()"
   ]
  },
  {
   "cell_type": "code",
   "execution_count": 11,
   "id": "68c0ca46",
   "metadata": {},
   "outputs": [],
   "source": [
    "survey_data = pd.read_csv(r\"C:\\Muhammad Zeeshan\\ComputerAndProgramming\\DataCampJourney\\02-Data Analyst with Python\\06 - Introduction to Data Visualization with Seaborn\\DataSet\\young-people-survey-responses.csv\")"
   ]
  },
  {
   "cell_type": "code",
   "execution_count": null,
   "id": "1366f7a4",
   "metadata": {},
   "outputs": [],
   "source": [
    "# # Set the color palette to \"Purples\"\n",
    "# sns.set_style(\"whitegrid\")\n",
    "\n",
    "\n",
    "# # Create a count plot of survey responses\n",
    "# category_order = [\"Never\", \"Rarely\", \"Sometimes\", \n",
    "#                   \"Often\", \"Always\"]\n",
    "# sns.set_palette(\"Purples\")\n",
    "# sns.catplot(x=\"Parents Advice\", \n",
    "#             data=survey_data, \n",
    "#             kind=\"count\", \n",
    "#             order=category_order)\n",
    "\n",
    "# # Show plot\n",
    "# plt.show()"
   ]
  },
  {
   "cell_type": "code",
   "execution_count": 12,
   "id": "0383a35d",
   "metadata": {},
   "outputs": [],
   "source": [
    "# # Change the color palette to \"RdBu\"\n",
    "# sns.set_style(\"whitegrid\")\n",
    "# sns.set_palette(\"RdBu\")\n",
    "\n",
    "# # Create a count plot of survey responses\n",
    "# category_order = [\"Never\", \"Rarely\", \"Sometimes\", \n",
    "#                   \"Often\", \"Always\"]\n",
    "\n",
    "# sns.catplot(x=\"Parents Advice\", \n",
    "#             data=survey_data, \n",
    "#             kind=\"count\", \n",
    "#             order=category_order)\n",
    "\n",
    "# # Show plot\n",
    "# plt.show()"
   ]
  },
  {
   "cell_type": "code",
   "execution_count": null,
   "id": "44cbb2e9",
   "metadata": {},
   "outputs": [],
   "source": [
    "# # Set the context to \"paper\"\n",
    "# sns.set_context(\"paper\")\n",
    "\n",
    "# # Create bar plot\n",
    "# sns.catplot(x=\"Number of Siblings\", y=\"Feels Lonely\",\n",
    "#             data=survey_data, kind=\"bar\")\n",
    "\n",
    "# # Show plot\n",
    "# plt.show()"
   ]
  },
  {
   "cell_type": "code",
   "execution_count": null,
   "id": "ef09c50a",
   "metadata": {},
   "outputs": [],
   "source": [
    "# # Change the context to \"notebook\"\n",
    "# sns.set_context(\"notebook\")\n",
    "\n",
    "# # Create bar plot\n",
    "# sns.catplot(x=\"Number of Siblings\", y=\"Feels Lonely\",\n",
    "#             data=survey_data, kind=\"bar\")\n",
    "\n",
    "# # Show plot\n",
    "# plt.show()"
   ]
  },
  {
   "cell_type": "code",
   "execution_count": null,
   "id": "25708409",
   "metadata": {},
   "outputs": [],
   "source": [
    "# # Change the context to \"talk\"\n",
    "# sns.set_context(\"talk\")\n",
    "\n",
    "# # Create bar plot\n",
    "# sns.catplot(x=\"Number of Siblings\", y=\"Feels Lonely\",\n",
    "#             data=survey_data, kind=\"bar\")\n",
    "\n",
    "# # Show plot\n",
    "# plt.show()"
   ]
  },
  {
   "cell_type": "code",
   "execution_count": 13,
   "id": "a6bcdd24",
   "metadata": {},
   "outputs": [],
   "source": [
    "# # Change the context to \"poster\"\n",
    "# sns.set_context(\"poster\")\n",
    "\n",
    "# # Create bar plot\n",
    "# sns.catplot(x=\"Number of Siblings\", y=\"Feels Lonely\",\n",
    "#             data=survey_data, kind=\"bar\")\n",
    "\n",
    "# # Show plot\n",
    "# plt.show()"
   ]
  },
  {
   "cell_type": "code",
   "execution_count": 15,
   "id": "0432c5ef",
   "metadata": {},
   "outputs": [],
   "source": [
    "# # Set the style to \"darkgrid\"\n",
    "# sns.set_style(\"darkgrid\")\n",
    "\n",
    "# # Set a custom color palette\n",
    "# sns.set_palette([\"#39A7D0\",\"#36ADA4\"])\n",
    "\n",
    "# # Create the box plot of age distribution by gender\n",
    "# sns.catplot(x=\"Gender\", y=\"Age\", \n",
    "#             data=survey_data, kind=\"box\")\n",
    "\n",
    "# # Show plot\n",
    "# plt.show()"
   ]
  },
  {
   "cell_type": "code",
   "execution_count": null,
   "id": "292990ee",
   "metadata": {},
   "outputs": [],
   "source": [
    "# # Create scatter plot\n",
    "# g = sns.relplot(x=\"weight\", \n",
    "#                 y=\"horsepower\", \n",
    "#                 data=mpg,\n",
    "#                 kind=\"scatter\")\n",
    "\n",
    "# # Add a title \"Car Weight vs. Horsepower\"\n",
    "# g.fig.suptitle(\"FacetGrid\")\n",
    "\n",
    "# # Show plot\n",
    "# plt.show()"
   ]
  },
  {
   "cell_type": "code",
   "execution_count": null,
   "id": "ed375889",
   "metadata": {},
   "outputs": [],
   "source": [
    "# # Create line plot\n",
    "# g = sns.lineplot(x=\"model_year\", y=\"mpg_mean\", \n",
    "#                  data=mpg_mean,\n",
    "#                  hue=\"origin\")\n",
    "\n",
    "# # Add a title \"Average MPG Over Time\"\n",
    "# g.set_title([\"Average MPG Over Time\"])\n",
    "\n",
    "# # Show plot\n",
    "# plt.show()"
   ]
  },
  {
   "cell_type": "code",
   "execution_count": null,
   "id": "77cc2de7",
   "metadata": {},
   "outputs": [],
   "source": [
    "# # Create line plot\n",
    "# g = sns.lineplot(x=\"model_year\", y=\"mpg_mean\", \n",
    "#                  data=mpg_mean,\n",
    "#                  hue=\"origin\")\n",
    "\n",
    "# # Add a title \"Average MPG Over Time\"\n",
    "# g.set_title(\"Average MPG Over Time\")\n",
    "\n",
    "# # Add x-axis and y-axis labels\n",
    "# g.set(xlabel = \"Car Model Year\", ylabel = \"Average MPG\")\n",
    "\n",
    "\n",
    "# # Show plot\n",
    "# plt.show()"
   ]
  },
  {
   "cell_type": "code",
   "execution_count": null,
   "id": "93f8208e",
   "metadata": {},
   "outputs": [],
   "source": [
    "# # Create point plot\n",
    "# sns.catplot(x=\"origin\", \n",
    "#             y=\"acceleration\", \n",
    "#             data=mpg, \n",
    "#             kind=\"point\", \n",
    "#             join=False, \n",
    "#             capsize=0.1)\n",
    "\n",
    "# # Rotate x-tick labels\n",
    "# plt.xticks(rotation=90)\n",
    "\n",
    "# # Show plot\n",
    "# plt.show()"
   ]
  },
  {
   "cell_type": "code",
   "execution_count": 16,
   "id": "94bd8d67",
   "metadata": {},
   "outputs": [],
   "source": [
    "# # Set palette to \"Blues\"\n",
    "# sns.set_palette(\"Blues\")\n",
    "\n",
    "# # Adjust to add subgroups based on \"Interested in Pets\"\n",
    "# g = sns.catplot(x=\"Gender\",\n",
    "#                 y=\"Age\", data=survey_data, \n",
    "#                 kind=\"box\", hue=\"Interested in Pets\")\n",
    "\n",
    "# # Set title to \"Age of Those Interested in Pets vs. Not\"\n",
    "# g.set_titles(\"Age of Those Interested in Pets vs. Not\")\n",
    "\n",
    "# # Show plot\n",
    "# plt.show()"
   ]
  },
  {
   "cell_type": "code",
   "execution_count": null,
   "id": "9ce4201f",
   "metadata": {},
   "outputs": [],
   "source": [
    "# # Set the figure style to \"dark\"\n",
    "# sns.set_style(\"dark\")\n",
    "\n",
    "# # Adjust to add subplots per gender\n",
    "# g = sns.catplot(x=\"Village - town\", y=\"Likes Techno\", \n",
    "#                 data=survey_data, kind=\"bar\",\n",
    "#                 col = \"Gender\")\n",
    "\n",
    "# # Add title and axis labels\n",
    "# g.fig.suptitle(\"Percentage of Young People Who Like Techno\", y=1.02)\n",
    "# g.set(xlabel=\"Location of Residence\", \n",
    "#        ylabel=\"% Who Like Techno\")\n",
    "\n",
    "# # Show plot\n",
    "# plt.show()"
   ]
  },
  {
   "cell_type": "code",
   "execution_count": null,
   "id": "ffaf80d5",
   "metadata": {},
   "outputs": [],
   "source": []
  },
  {
   "cell_type": "code",
   "execution_count": null,
   "id": "65ef7117",
   "metadata": {},
   "outputs": [],
   "source": []
  },
  {
   "cell_type": "code",
   "execution_count": null,
   "id": "9bb8d8ef",
   "metadata": {},
   "outputs": [],
   "source": []
  }
 ],
 "metadata": {
  "kernelspec": {
   "display_name": "Python 3 (ipykernel)",
   "language": "python",
   "name": "python3"
  },
  "language_info": {
   "codemirror_mode": {
    "name": "ipython",
    "version": 3
   },
   "file_extension": ".py",
   "mimetype": "text/x-python",
   "name": "python",
   "nbconvert_exporter": "python",
   "pygments_lexer": "ipython3",
   "version": "3.9.12"
  }
 },
 "nbformat": 4,
 "nbformat_minor": 5
}
